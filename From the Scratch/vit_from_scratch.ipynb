{
  "nbformat": 4,
  "nbformat_minor": 0,
  "metadata": {
    "colab": {
      "provenance": [],
      "gpuType": "T4"
    },
    "kernelspec": {
      "name": "python3",
      "display_name": "Python 3"
    },
    "language_info": {
      "name": "python"
    },
    "accelerator": "GPU"
  },
  "cells": [
    {
      "cell_type": "code",
      "execution_count": null,
      "metadata": {
        "colab": {
          "base_uri": "https://localhost:8080/"
        },
        "id": "cF_yb3svNYCx",
        "outputId": "132364c3-ba5a-4258-a2a7-a53b468164cc"
      },
      "outputs": [
        {
          "output_type": "stream",
          "name": "stdout",
          "text": [
            "Looking in indexes: https://pypi.org/simple, https://us-python.pkg.dev/colab-wheels/public/simple/\n",
            "Collecting tensorflow-addons\n",
            "  Downloading tensorflow_addons-0.20.0-cp310-cp310-manylinux_2_17_x86_64.manylinux2014_x86_64.whl (591 kB)\n",
            "\u001b[2K     \u001b[90m━━━━━━━━━━━━━━━━━━━━━━━━━━━━━━━━━━━━━━\u001b[0m \u001b[32m591.0/591.0 kB\u001b[0m \u001b[31m15.8 MB/s\u001b[0m eta \u001b[36m0:00:00\u001b[0m\n",
            "\u001b[?25hRequirement already satisfied: packaging in /usr/local/lib/python3.10/dist-packages (from tensorflow-addons) (23.1)\n",
            "Collecting typeguard<3.0.0,>=2.7 (from tensorflow-addons)\n",
            "  Downloading typeguard-2.13.3-py3-none-any.whl (17 kB)\n",
            "Installing collected packages: typeguard, tensorflow-addons\n",
            "Successfully installed tensorflow-addons-0.20.0 typeguard-2.13.3\n"
          ]
        }
      ],
      "source": [
        "pip install -U tensorflow-addons"
      ]
    },
    {
      "cell_type": "code",
      "source": [
        "import matplotlib.pyplot as plt\n",
        "import numpy as np\n",
        "import tensorflow as tf\n",
        "import tensorflow_addons as tfa\n",
        "from tensorflow import keras\n",
        "from tensorflow.keras import layers\n",
        "import os\n",
        "from tensorflow.keras.preprocessing.image import ImageDataGenerator\n",
        "from PIL import Image\n",
        "from tensorflow.keras.preprocessing import image"
      ],
      "metadata": {
        "colab": {
          "base_uri": "https://localhost:8080/"
        },
        "id": "3areGMahNdiP",
        "outputId": "8356ecb4-61f4-44b5-903b-22a97c653ef6"
      },
      "execution_count": null,
      "outputs": [
        {
          "output_type": "stream",
          "name": "stderr",
          "text": [
            "/usr/local/lib/python3.10/dist-packages/tensorflow_addons/utils/tfa_eol_msg.py:23: UserWarning: \n",
            "\n",
            "TensorFlow Addons (TFA) has ended development and introduction of new features.\n",
            "TFA has entered a minimal maintenance and release mode until a planned end of life in May 2024.\n",
            "Please modify downstream libraries to take dependencies from other repositories in our TensorFlow community (e.g. Keras, Keras-CV, and Keras-NLP). \n",
            "\n",
            "For more information see: https://github.com/tensorflow/addons/issues/2807 \n",
            "\n",
            "  warnings.warn(\n"
          ]
        }
      ]
    },
    {
      "cell_type": "code",
      "source": [
        "from google.colab import drive\n",
        "drive.mount('/content/drive')"
      ],
      "metadata": {
        "colab": {
          "base_uri": "https://localhost:8080/"
        },
        "id": "gbuTxJb_Nfjq",
        "outputId": "3612be8a-a97a-4d57-f87f-a84952c1b01f"
      },
      "execution_count": null,
      "outputs": [
        {
          "output_type": "stream",
          "name": "stdout",
          "text": [
            "Mounted at /content/drive\n"
          ]
        }
      ]
    },
    {
      "cell_type": "code",
      "source": [
        "target_size = (32, 32)\n",
        "\n",
        "\n",
        "# Reshape the training dataset\n",
        "train_generator = ImageDataGenerator(rescale=1./255.)\n",
        "train = train_generator.flow_from_directory(\n",
        "    '/content/drive/MyDrive/Vision_Transformer/butterly_dataset/train',\n",
        "    batch_size=32,\n",
        "    class_mode='categorical',\n",
        "    target_size=target_size\n",
        ")\n",
        "\n",
        "# Reshape the validation dataset\n",
        "valid_generator = ImageDataGenerator(rescale=1./255.)\n",
        "valid = valid_generator.flow_from_directory(\n",
        "    '/content/drive/MyDrive/Vision_Transformer/butterly_dataset/valid',\n",
        "    batch_size=32,\n",
        "    class_mode='categorical',\n",
        "    target_size=target_size\n",
        ")\n",
        "\n",
        "# Reshape the test dataset\n",
        "test_generator = ImageDataGenerator(rescale=1./255.)\n",
        "test = test_generator.flow_from_directory(\n",
        "    '/content/drive/MyDrive/Vision_Transformer/butterly_dataset/test',\n",
        "    batch_size=32,\n",
        "    class_mode='categorical',\n",
        "    target_size=target_size\n",
        ")"
      ],
      "metadata": {
        "colab": {
          "base_uri": "https://localhost:8080/"
        },
        "id": "3b3wQQMoNhmM",
        "outputId": "7ba3d9b2-24f2-4621-973c-2d5d677bbc7d"
      },
      "execution_count": null,
      "outputs": [
        {
          "output_type": "stream",
          "name": "stdout",
          "text": [
            "Found 12594 images belonging to 100 classes.\n",
            "Found 500 images belonging to 100 classes.\n",
            "Found 500 images belonging to 100 classes.\n"
          ]
        }
      ]
    },
    {
      "cell_type": "code",
      "source": [
        "learning_rate = 0.001\n",
        "weight_decay = 0.0001\n",
        "batch_size = 128\n",
        "num_epochs =100\n",
        "image_size=32\n",
        "patch_size = 4\n",
        "num_patches = (image_size // patch_size) ** 2\n",
        "projection_dim = 64 #(for feature vectors)\n",
        "num_heads = 4\n",
        "transformer_units = [\n",
        "    projection_dim * 2,\n",
        "    projection_dim,\n",
        "]  # Size of the transformer layers\n",
        "transformer_layers = 8 #8 times\n",
        "mlp_head_units = [2048, 1024]  # Size of the dense layers of the final classifier"
      ],
      "metadata": {
        "id": "8Cc336-6NyiC"
      },
      "execution_count": null,
      "outputs": []
    },
    {
      "cell_type": "code",
      "source": [
        "data_augmentation = keras.Sequential(\n",
        "    [\n",
        "        layers.Normalization(),\n",
        "        layers.Resizing(image_size, image_size),\n",
        "        layers.RandomFlip(\"horizontal\"),\n",
        "        layers.RandomRotation(factor=0.02),\n",
        "        layers.RandomZoom(\n",
        "            height_factor=0.2, width_factor=0.2\n",
        "        ),\n",
        "    ],\n",
        "    name=\"data_augmentation\",\n",
        ")\n"
      ],
      "metadata": {
        "id": "sj75NogkN3lr"
      },
      "execution_count": null,
      "outputs": []
    },
    {
      "cell_type": "code",
      "source": [
        "def mlp(x, hidden_units, dropout_rate):\n",
        "    for units in hidden_units:\n",
        "        x = layers.Dense(units, activation=tf.nn.gelu)(x)\n",
        "        x = layers.Dropout(dropout_rate)(x)\n",
        "    return x\n",
        "#skip connection"
      ],
      "metadata": {
        "id": "zs9Jy1vqOLkC"
      },
      "execution_count": null,
      "outputs": []
    },
    {
      "cell_type": "code",
      "source": [
        "class Patches(layers.Layer):\n",
        "    def __init__(self, patch_size):\n",
        "        super().__init__()\n",
        "        self.patch_size = patch_size\n",
        "\n",
        "    def call(self, images):\n",
        "        batch_size = tf.shape(images)[0]\n",
        "        patches = tf.image.extract_patches(\n",
        "            images=images,\n",
        "            sizes=[1, self.patch_size, self.patch_size, 1],\n",
        "            strides=[1, self.patch_size, self.patch_size, 1],\n",
        "            rates=[1, 1, 1, 1],\n",
        "            padding=\"VALID\",\n",
        "        )\n",
        "        patch_dims = tf.shape(patches)[-1]\n",
        "        patches = tf.reshape(patches, [batch_size, -1, patch_dims])\n",
        "        return patches\n"
      ],
      "metadata": {
        "id": "13WohoexONhG"
      },
      "execution_count": null,
      "outputs": []
    },
    {
      "cell_type": "code",
      "source": [
        "class PatchEncoder(layers.Layer):\n",
        "    def __init__(self, num_patches, projection_dim):\n",
        "        super().__init__()\n",
        "        self.num_patches = num_patches #define the number of patches\n",
        "        self.projection = layers.Dense(units=projection_dim) #Add dense layer to projection\n",
        "        self.position_embedding = layers.Embedding( #Define embedding table\n",
        "                                                   #takes from index code into position in embedding table and returns the vector\n",
        "            input_dim=num_patches, output_dim=projection_dim\n",
        "        )\n",
        "\n",
        "    def call(self, patch):\n",
        "        positions = tf.range(start=0, limit=self.num_patches, delta=1)\n",
        "        encoded = self.projection(patch) + self.position_embedding(positions)\n",
        "        return encoded"
      ],
      "metadata": {
        "id": "MKWijI88ORCP"
      },
      "execution_count": null,
      "outputs": []
    },
    {
      "cell_type": "code",
      "source": [
        "input_shape=(32,32,3)\n",
        "num_classes=100"
      ],
      "metadata": {
        "id": "OYn-Bzv7Qb-v"
      },
      "execution_count": null,
      "outputs": []
    },
    {
      "cell_type": "code",
      "source": [
        "#Define the model ViT\n",
        "def create_vit_classifier():\n",
        "    inputs = layers.Input(shape=input_shape)\n",
        "    # Augment data.\n",
        "    augmented = data_augmentation(inputs)\n",
        "    # Create patches.\n",
        "    patches = Patches(patch_size)(augmented)\n",
        "    # Encode patches.\n",
        "    encoded_patches = PatchEncoder(num_patches, projection_dim)(patches)\n",
        "\n",
        "    # Create multiple layers of the Transformer block.\n",
        "    for _ in range(transformer_layers):\n",
        "        # Layer normalization 1.\n",
        "        x1 = layers.LayerNormalization(epsilon=1e-6)(encoded_patches)\n",
        "        # Create a multi-head attention layer.\n",
        "        attention_output = layers.MultiHeadAttention(\n",
        "            num_heads=num_heads, key_dim=projection_dim, dropout=0.1\n",
        "        )(x1, x1)\n",
        "        # Skip connection 1.\n",
        "        x2 = layers.Add()([attention_output, encoded_patches])\n",
        "        # Layer normalization 2.\n",
        "        x3 = layers.LayerNormalization(epsilon=1e-6)(x2)\n",
        "        # MLP.\n",
        "        x3 = mlp(x3, hidden_units=transformer_units, dropout_rate=0.1)\n",
        "        # Skip connection 2.\n",
        "        encoded_patches = layers.Add()([x3, x2])\n",
        "\n",
        "    # Create a [batch_size, projection_dim] tensor.\n",
        "    representation = layers.LayerNormalization(epsilon=1e-6)(encoded_patches)\n",
        "    representation = layers.Flatten()(representation)\n",
        "    representation = layers.Dropout(0.5)(representation)\n",
        "    # Add MLP.\n",
        "    features = mlp(representation, hidden_units=mlp_head_units, dropout_rate=0.5)\n",
        "    # Classify outputs.\n",
        "    logits = layers.Dense(num_classes)(features)\n",
        "    # Create the Keras model.\n",
        "    model = keras.Model(inputs=inputs, outputs=logits)\n",
        "    return model\n"
      ],
      "metadata": {
        "id": "ZZDOGjJmO0IJ"
      },
      "execution_count": null,
      "outputs": []
    },
    {
      "cell_type": "code",
      "source": [
        "def run_experiment(model):\n",
        "    optimizer = tfa.optimizers.AdamW(\n",
        "        learning_rate=learning_rate, weight_decay=weight_decay\n",
        "    )\n",
        "\n",
        "    model.compile(\n",
        "        optimizer=optimizer,\n",
        "        loss=keras.losses.CategoricalCrossentropy(from_logits=True),\n",
        "        metrics=[\n",
        "            keras.metrics.CategoricalAccuracy(name=\"accuracy\"),\n",
        "            keras.metrics.TopKCategoricalAccuracy(5, name=\"top-5-accuracy\"),\n",
        "        ],\n",
        "    )\n",
        "\n",
        "    checkpoint_filepath = \"/tmp/checkpoint\"\n",
        "    checkpoint_callback = keras.callbacks.ModelCheckpoint(\n",
        "        checkpoint_filepath,\n",
        "        monitor=\"val_accuracy\",\n",
        "        save_best_only=True,\n",
        "        save_weights_only=True,\n",
        "    )\n",
        "\n",
        "    history = model.fit(\n",
        "        train,\n",
        "        epochs=num_epochs,\n",
        "        validation_data=valid,\n",
        "        callbacks=[checkpoint_callback],\n",
        "    )\n",
        "\n",
        "    model.load_weights(checkpoint_filepath)\n",
        "    _, accuracy, top_5_accuracy = model.evaluate(test)\n",
        "    print(f\"Test accuracy: {round(accuracy * 100, 2)}%\")\n",
        "    return history"
      ],
      "metadata": {
        "id": "KoF_emeNSf9j"
      },
      "execution_count": null,
      "outputs": []
    },
    {
      "cell_type": "code",
      "source": [
        "vit_classifier = create_vit_classifier()\n",
        "history = run_experiment(vit_classifier)"
      ],
      "metadata": {
        "colab": {
          "base_uri": "https://localhost:8080/"
        },
        "id": "qZC06c-ISyAC",
        "outputId": "64a69500-27d0-4e6d-b82e-57f1dcc73215"
      },
      "execution_count": null,
      "outputs": [
        {
          "output_type": "stream",
          "name": "stdout",
          "text": [
            "Epoch 1/100\n",
            "394/394 [==============================] - 4410s 11s/step - loss: 4.8061 - accuracy: 0.0094 - top-5-accuracy: 0.0496 - val_loss: 4.6071 - val_accuracy: 0.0100 - val_top-5-accuracy: 0.0500\n",
            "Epoch 2/100\n",
            "394/394 [==============================] - 45s 115ms/step - loss: 4.6203 - accuracy: 0.0114 - top-5-accuracy: 0.0510 - val_loss: 4.6077 - val_accuracy: 0.0100 - val_top-5-accuracy: 0.0520\n",
            "Epoch 3/100\n",
            "394/394 [==============================] - 46s 116ms/step - loss: 4.6103 - accuracy: 0.0126 - top-5-accuracy: 0.0579 - val_loss: 4.6084 - val_accuracy: 0.0100 - val_top-5-accuracy: 0.0500\n",
            "Epoch 4/100\n",
            "394/394 [==============================] - 45s 114ms/step - loss: 4.6102 - accuracy: 0.0141 - top-5-accuracy: 0.0599 - val_loss: 4.6073 - val_accuracy: 0.0100 - val_top-5-accuracy: 0.0500\n",
            "Epoch 5/100\n",
            "394/394 [==============================] - 45s 114ms/step - loss: 4.6145 - accuracy: 0.0137 - top-5-accuracy: 0.0599 - val_loss: 4.6077 - val_accuracy: 0.0100 - val_top-5-accuracy: 0.0500\n",
            "Epoch 6/100\n",
            "394/394 [==============================] - 47s 118ms/step - loss: 4.6047 - accuracy: 0.0149 - top-5-accuracy: 0.0640 - val_loss: 4.6090 - val_accuracy: 0.0100 - val_top-5-accuracy: 0.0500\n",
            "Epoch 7/100\n",
            "394/394 [==============================] - 46s 118ms/step - loss: 4.6063 - accuracy: 0.0133 - top-5-accuracy: 0.0644 - val_loss: 4.6084 - val_accuracy: 0.0100 - val_top-5-accuracy: 0.0500\n",
            "Epoch 8/100\n",
            "394/394 [==============================] - 45s 114ms/step - loss: 4.6033 - accuracy: 0.0150 - top-5-accuracy: 0.0642 - val_loss: 4.6086 - val_accuracy: 0.0100 - val_top-5-accuracy: 0.0500\n",
            "Epoch 9/100\n",
            "394/394 [==============================] - 45s 114ms/step - loss: 4.6091 - accuracy: 0.0150 - top-5-accuracy: 0.0650 - val_loss: 4.6078 - val_accuracy: 0.0100 - val_top-5-accuracy: 0.0500\n",
            "Epoch 10/100\n",
            "394/394 [==============================] - 47s 119ms/step - loss: 4.5458 - accuracy: 0.0179 - top-5-accuracy: 0.0800 - val_loss: 4.3460 - val_accuracy: 0.0280 - val_top-5-accuracy: 0.1260\n",
            "Epoch 11/100\n",
            "394/394 [==============================] - 45s 115ms/step - loss: 4.3186 - accuracy: 0.0316 - top-5-accuracy: 0.1342 - val_loss: 4.1829 - val_accuracy: 0.0480 - val_top-5-accuracy: 0.1800\n",
            "Epoch 12/100\n",
            "394/394 [==============================] - 45s 115ms/step - loss: 4.1516 - accuracy: 0.0429 - top-5-accuracy: 0.1826 - val_loss: 3.8368 - val_accuracy: 0.0860 - val_top-5-accuracy: 0.2540\n",
            "Epoch 13/100\n",
            "394/394 [==============================] - 46s 117ms/step - loss: 3.9589 - accuracy: 0.0711 - top-5-accuracy: 0.2470 - val_loss: 3.5767 - val_accuracy: 0.1140 - val_top-5-accuracy: 0.3240\n",
            "Epoch 14/100\n",
            "394/394 [==============================] - 47s 118ms/step - loss: 3.6556 - accuracy: 0.1050 - top-5-accuracy: 0.3405 - val_loss: 3.1707 - val_accuracy: 0.2100 - val_top-5-accuracy: 0.5120\n",
            "Epoch 15/100\n",
            "394/394 [==============================] - 45s 115ms/step - loss: 3.3812 - accuracy: 0.1532 - top-5-accuracy: 0.4278 - val_loss: 2.8583 - val_accuracy: 0.2940 - val_top-5-accuracy: 0.5860\n",
            "Epoch 16/100\n",
            "394/394 [==============================] - 45s 115ms/step - loss: 3.1103 - accuracy: 0.2066 - top-5-accuracy: 0.5124 - val_loss: 2.6865 - val_accuracy: 0.3240 - val_top-5-accuracy: 0.6280\n",
            "Epoch 17/100\n",
            "394/394 [==============================] - 45s 115ms/step - loss: 2.8574 - accuracy: 0.2608 - top-5-accuracy: 0.5811 - val_loss: 2.4217 - val_accuracy: 0.3640 - val_top-5-accuracy: 0.6820\n",
            "Epoch 18/100\n",
            "394/394 [==============================] - 47s 120ms/step - loss: 2.6630 - accuracy: 0.3037 - top-5-accuracy: 0.6295 - val_loss: 2.1301 - val_accuracy: 0.4380 - val_top-5-accuracy: 0.7420\n",
            "Epoch 19/100\n",
            "394/394 [==============================] - 45s 115ms/step - loss: 2.4926 - accuracy: 0.3453 - top-5-accuracy: 0.6729 - val_loss: 1.9685 - val_accuracy: 0.4640 - val_top-5-accuracy: 0.7820\n",
            "Epoch 20/100\n",
            "394/394 [==============================] - 45s 115ms/step - loss: 2.3695 - accuracy: 0.3691 - top-5-accuracy: 0.6995 - val_loss: 1.9215 - val_accuracy: 0.4920 - val_top-5-accuracy: 0.7900\n",
            "Epoch 21/100\n",
            "394/394 [==============================] - 46s 116ms/step - loss: 2.2536 - accuracy: 0.3946 - top-5-accuracy: 0.7275 - val_loss: 1.7413 - val_accuracy: 0.5260 - val_top-5-accuracy: 0.8060\n",
            "Epoch 22/100\n",
            "394/394 [==============================] - 46s 116ms/step - loss: 2.1474 - accuracy: 0.4246 - top-5-accuracy: 0.7436 - val_loss: 1.7431 - val_accuracy: 0.5200 - val_top-5-accuracy: 0.7920\n",
            "Epoch 23/100\n",
            "394/394 [==============================] - 46s 116ms/step - loss: 2.0635 - accuracy: 0.4470 - top-5-accuracy: 0.7604 - val_loss: 1.6346 - val_accuracy: 0.5720 - val_top-5-accuracy: 0.8240\n",
            "Epoch 24/100\n",
            "394/394 [==============================] - 45s 114ms/step - loss: 1.9573 - accuracy: 0.4680 - top-5-accuracy: 0.7838 - val_loss: 1.6251 - val_accuracy: 0.5480 - val_top-5-accuracy: 0.8260\n",
            "Epoch 25/100\n",
            "394/394 [==============================] - 45s 114ms/step - loss: 1.9342 - accuracy: 0.4675 - top-5-accuracy: 0.7889 - val_loss: 1.6651 - val_accuracy: 0.5620 - val_top-5-accuracy: 0.8240\n",
            "Epoch 26/100\n",
            "394/394 [==============================] - 45s 115ms/step - loss: 1.8560 - accuracy: 0.4891 - top-5-accuracy: 0.8034 - val_loss: 1.4961 - val_accuracy: 0.5700 - val_top-5-accuracy: 0.8500\n",
            "Epoch 27/100\n",
            "394/394 [==============================] - 46s 116ms/step - loss: 1.7821 - accuracy: 0.5060 - top-5-accuracy: 0.8161 - val_loss: 1.4500 - val_accuracy: 0.6140 - val_top-5-accuracy: 0.8460\n",
            "Epoch 28/100\n",
            "394/394 [==============================] - 45s 115ms/step - loss: 1.7572 - accuracy: 0.5170 - top-5-accuracy: 0.8180 - val_loss: 1.4163 - val_accuracy: 0.6200 - val_top-5-accuracy: 0.8520\n",
            "Epoch 29/100\n",
            "394/394 [==============================] - 45s 114ms/step - loss: 1.6940 - accuracy: 0.5350 - top-5-accuracy: 0.8305 - val_loss: 1.3980 - val_accuracy: 0.6180 - val_top-5-accuracy: 0.8620\n",
            "Epoch 30/100\n",
            "394/394 [==============================] - 46s 117ms/step - loss: 1.6607 - accuracy: 0.5407 - top-5-accuracy: 0.8358 - val_loss: 1.3090 - val_accuracy: 0.6480 - val_top-5-accuracy: 0.8680\n",
            "Epoch 31/100\n",
            "394/394 [==============================] - 45s 115ms/step - loss: 1.5956 - accuracy: 0.5566 - top-5-accuracy: 0.8468 - val_loss: 1.3445 - val_accuracy: 0.6300 - val_top-5-accuracy: 0.8760\n",
            "Epoch 32/100\n",
            "394/394 [==============================] - 46s 116ms/step - loss: 1.5665 - accuracy: 0.5603 - top-5-accuracy: 0.8488 - val_loss: 1.2601 - val_accuracy: 0.6320 - val_top-5-accuracy: 0.8860\n",
            "Epoch 33/100\n",
            "394/394 [==============================] - 47s 118ms/step - loss: 1.5248 - accuracy: 0.5728 - top-5-accuracy: 0.8560 - val_loss: 1.2334 - val_accuracy: 0.6620 - val_top-5-accuracy: 0.8800\n",
            "Epoch 34/100\n",
            "394/394 [==============================] - 45s 113ms/step - loss: 1.5156 - accuracy: 0.5746 - top-5-accuracy: 0.8594 - val_loss: 1.2210 - val_accuracy: 0.6400 - val_top-5-accuracy: 0.8920\n",
            "Epoch 35/100\n",
            "394/394 [==============================] - 46s 115ms/step - loss: 1.4358 - accuracy: 0.5927 - top-5-accuracy: 0.8767 - val_loss: 1.1658 - val_accuracy: 0.6720 - val_top-5-accuracy: 0.9020\n",
            "Epoch 36/100\n",
            "394/394 [==============================] - 45s 115ms/step - loss: 1.4198 - accuracy: 0.6032 - top-5-accuracy: 0.8703 - val_loss: 1.1656 - val_accuracy: 0.6860 - val_top-5-accuracy: 0.9100\n",
            "Epoch 37/100\n",
            "394/394 [==============================] - 46s 116ms/step - loss: 1.4015 - accuracy: 0.5985 - top-5-accuracy: 0.8780 - val_loss: 1.1499 - val_accuracy: 0.6860 - val_top-5-accuracy: 0.9000\n",
            "Epoch 38/100\n",
            "394/394 [==============================] - 45s 115ms/step - loss: 1.3600 - accuracy: 0.6124 - top-5-accuracy: 0.8859 - val_loss: 1.1727 - val_accuracy: 0.6760 - val_top-5-accuracy: 0.8900\n",
            "Epoch 39/100\n",
            "394/394 [==============================] - 45s 115ms/step - loss: 1.3558 - accuracy: 0.6119 - top-5-accuracy: 0.8833 - val_loss: 1.0613 - val_accuracy: 0.6920 - val_top-5-accuracy: 0.9020\n",
            "Epoch 40/100\n",
            "394/394 [==============================] - 45s 113ms/step - loss: 1.3021 - accuracy: 0.6315 - top-5-accuracy: 0.8907 - val_loss: 1.2036 - val_accuracy: 0.6620 - val_top-5-accuracy: 0.9040\n",
            "Epoch 41/100\n",
            "394/394 [==============================] - 46s 117ms/step - loss: 1.2866 - accuracy: 0.6297 - top-5-accuracy: 0.8926 - val_loss: 1.1655 - val_accuracy: 0.6700 - val_top-5-accuracy: 0.8900\n",
            "Epoch 42/100\n",
            "394/394 [==============================] - 45s 114ms/step - loss: 1.2736 - accuracy: 0.6352 - top-5-accuracy: 0.8985 - val_loss: 1.1191 - val_accuracy: 0.6820 - val_top-5-accuracy: 0.9040\n",
            "Epoch 43/100\n",
            "394/394 [==============================] - 44s 113ms/step - loss: 1.2653 - accuracy: 0.6328 - top-5-accuracy: 0.9025 - val_loss: 1.1685 - val_accuracy: 0.6720 - val_top-5-accuracy: 0.9180\n",
            "Epoch 44/100\n",
            "394/394 [==============================] - 45s 114ms/step - loss: 1.2362 - accuracy: 0.6433 - top-5-accuracy: 0.9048 - val_loss: 1.1398 - val_accuracy: 0.6800 - val_top-5-accuracy: 0.9200\n",
            "Epoch 45/100\n",
            "394/394 [==============================] - 47s 119ms/step - loss: 1.2131 - accuracy: 0.6511 - top-5-accuracy: 0.9066 - val_loss: 1.1168 - val_accuracy: 0.6900 - val_top-5-accuracy: 0.9040\n",
            "Epoch 46/100\n",
            "394/394 [==============================] - 46s 116ms/step - loss: 1.1860 - accuracy: 0.6542 - top-5-accuracy: 0.9097 - val_loss: 1.1252 - val_accuracy: 0.7020 - val_top-5-accuracy: 0.9120\n",
            "Epoch 47/100\n",
            "394/394 [==============================] - 45s 113ms/step - loss: 1.1660 - accuracy: 0.6609 - top-5-accuracy: 0.9162 - val_loss: 1.1472 - val_accuracy: 0.7020 - val_top-5-accuracy: 0.9060\n",
            "Epoch 48/100\n",
            "394/394 [==============================] - 45s 114ms/step - loss: 1.1578 - accuracy: 0.6653 - top-5-accuracy: 0.9150 - val_loss: 1.1056 - val_accuracy: 0.6940 - val_top-5-accuracy: 0.9140\n",
            "Epoch 49/100\n",
            "394/394 [==============================] - 46s 118ms/step - loss: 1.1399 - accuracy: 0.6633 - top-5-accuracy: 0.9186 - val_loss: 1.0548 - val_accuracy: 0.7180 - val_top-5-accuracy: 0.9160\n",
            "Epoch 50/100\n",
            "394/394 [==============================] - 45s 113ms/step - loss: 1.1277 - accuracy: 0.6683 - top-5-accuracy: 0.9184 - val_loss: 1.0931 - val_accuracy: 0.6900 - val_top-5-accuracy: 0.9140\n",
            "Epoch 51/100\n",
            "394/394 [==============================] - 45s 114ms/step - loss: 1.1042 - accuracy: 0.6748 - top-5-accuracy: 0.9208 - val_loss: 1.0387 - val_accuracy: 0.7040 - val_top-5-accuracy: 0.9180\n",
            "Epoch 52/100\n",
            "394/394 [==============================] - 46s 116ms/step - loss: 1.0884 - accuracy: 0.6788 - top-5-accuracy: 0.9274 - val_loss: 1.0727 - val_accuracy: 0.6960 - val_top-5-accuracy: 0.9240\n",
            "Epoch 53/100\n",
            "394/394 [==============================] - 45s 114ms/step - loss: 1.0980 - accuracy: 0.6775 - top-5-accuracy: 0.9214 - val_loss: 1.0411 - val_accuracy: 0.7020 - val_top-5-accuracy: 0.9280\n",
            "Epoch 54/100\n",
            "394/394 [==============================] - 46s 116ms/step - loss: 1.1065 - accuracy: 0.6825 - top-5-accuracy: 0.9194 - val_loss: 1.0646 - val_accuracy: 0.6920 - val_top-5-accuracy: 0.9140\n",
            "Epoch 55/100\n",
            "394/394 [==============================] - 45s 114ms/step - loss: 1.0830 - accuracy: 0.6814 - top-5-accuracy: 0.9246 - val_loss: 1.0309 - val_accuracy: 0.6980 - val_top-5-accuracy: 0.9300\n",
            "Epoch 56/100\n",
            "394/394 [==============================] - 45s 115ms/step - loss: 1.0485 - accuracy: 0.6909 - top-5-accuracy: 0.9289 - val_loss: 1.0307 - val_accuracy: 0.7060 - val_top-5-accuracy: 0.9260\n",
            "Epoch 57/100\n",
            "394/394 [==============================] - 46s 115ms/step - loss: 1.0223 - accuracy: 0.6988 - top-5-accuracy: 0.9315 - val_loss: 1.1391 - val_accuracy: 0.6880 - val_top-5-accuracy: 0.9200\n",
            "Epoch 58/100\n",
            "394/394 [==============================] - 45s 114ms/step - loss: 1.0002 - accuracy: 0.7002 - top-5-accuracy: 0.9352 - val_loss: 1.0218 - val_accuracy: 0.7080 - val_top-5-accuracy: 0.9300\n",
            "Epoch 59/100\n",
            "394/394 [==============================] - 46s 116ms/step - loss: 1.0146 - accuracy: 0.6992 - top-5-accuracy: 0.9344 - val_loss: 0.9937 - val_accuracy: 0.7200 - val_top-5-accuracy: 0.9240\n",
            "Epoch 60/100\n",
            "394/394 [==============================] - 45s 114ms/step - loss: 0.9976 - accuracy: 0.7039 - top-5-accuracy: 0.9366 - val_loss: 1.0012 - val_accuracy: 0.7180 - val_top-5-accuracy: 0.9160\n",
            "Epoch 61/100\n",
            "394/394 [==============================] - 45s 114ms/step - loss: 1.0037 - accuracy: 0.7010 - top-5-accuracy: 0.9393 - val_loss: 1.0410 - val_accuracy: 0.7140 - val_top-5-accuracy: 0.9300\n",
            "Epoch 62/100\n",
            "394/394 [==============================] - 45s 114ms/step - loss: 0.9891 - accuracy: 0.7101 - top-5-accuracy: 0.9383 - val_loss: 1.0532 - val_accuracy: 0.7100 - val_top-5-accuracy: 0.9320\n",
            "Epoch 63/100\n",
            "394/394 [==============================] - 45s 115ms/step - loss: 0.9847 - accuracy: 0.7060 - top-5-accuracy: 0.9373 - val_loss: 0.9761 - val_accuracy: 0.7240 - val_top-5-accuracy: 0.9280\n",
            "Epoch 64/100\n",
            "394/394 [==============================] - 45s 114ms/step - loss: 0.9492 - accuracy: 0.7239 - top-5-accuracy: 0.9419 - val_loss: 1.0379 - val_accuracy: 0.6980 - val_top-5-accuracy: 0.9180\n",
            "Epoch 65/100\n",
            "394/394 [==============================] - 45s 114ms/step - loss: 0.9617 - accuracy: 0.7165 - top-5-accuracy: 0.9402 - val_loss: 1.0382 - val_accuracy: 0.6900 - val_top-5-accuracy: 0.9260\n",
            "Epoch 66/100\n",
            "394/394 [==============================] - 45s 113ms/step - loss: 0.9521 - accuracy: 0.7206 - top-5-accuracy: 0.9409 - val_loss: 0.9723 - val_accuracy: 0.7160 - val_top-5-accuracy: 0.9400\n",
            "Epoch 67/100\n",
            "394/394 [==============================] - 46s 118ms/step - loss: 0.9442 - accuracy: 0.7167 - top-5-accuracy: 0.9423 - val_loss: 0.9696 - val_accuracy: 0.7300 - val_top-5-accuracy: 0.9220\n",
            "Epoch 68/100\n",
            "394/394 [==============================] - 46s 115ms/step - loss: 0.9395 - accuracy: 0.7232 - top-5-accuracy: 0.9454 - val_loss: 0.9619 - val_accuracy: 0.7300 - val_top-5-accuracy: 0.9440\n",
            "Epoch 69/100\n",
            "394/394 [==============================] - 47s 119ms/step - loss: 0.9074 - accuracy: 0.7269 - top-5-accuracy: 0.9462 - val_loss: 1.0282 - val_accuracy: 0.7320 - val_top-5-accuracy: 0.9240\n",
            "Epoch 70/100\n",
            "394/394 [==============================] - 46s 117ms/step - loss: 0.9130 - accuracy: 0.7271 - top-5-accuracy: 0.9440 - val_loss: 0.9423 - val_accuracy: 0.7400 - val_top-5-accuracy: 0.9320\n",
            "Epoch 71/100\n",
            "394/394 [==============================] - 46s 116ms/step - loss: 0.9126 - accuracy: 0.7265 - top-5-accuracy: 0.9459 - val_loss: 0.9385 - val_accuracy: 0.7500 - val_top-5-accuracy: 0.9280\n",
            "Epoch 72/100\n",
            "394/394 [==============================] - 46s 118ms/step - loss: 0.8879 - accuracy: 0.7340 - top-5-accuracy: 0.9481 - val_loss: 0.9753 - val_accuracy: 0.7400 - val_top-5-accuracy: 0.9320\n",
            "Epoch 73/100\n",
            "394/394 [==============================] - 45s 113ms/step - loss: 0.8954 - accuracy: 0.7319 - top-5-accuracy: 0.9464 - val_loss: 1.0532 - val_accuracy: 0.6960 - val_top-5-accuracy: 0.9200\n",
            "Epoch 74/100\n",
            "394/394 [==============================] - 45s 113ms/step - loss: 0.8961 - accuracy: 0.7298 - top-5-accuracy: 0.9493 - val_loss: 1.0250 - val_accuracy: 0.7060 - val_top-5-accuracy: 0.9280\n",
            "Epoch 75/100\n",
            "394/394 [==============================] - 45s 115ms/step - loss: 0.8784 - accuracy: 0.7333 - top-5-accuracy: 0.9510 - val_loss: 1.0158 - val_accuracy: 0.7200 - val_top-5-accuracy: 0.9280\n",
            "Epoch 76/100\n",
            "394/394 [==============================] - 47s 118ms/step - loss: 0.8744 - accuracy: 0.7364 - top-5-accuracy: 0.9519 - val_loss: 0.9910 - val_accuracy: 0.7380 - val_top-5-accuracy: 0.9120\n",
            "Epoch 77/100\n",
            "394/394 [==============================] - 47s 118ms/step - loss: 0.8624 - accuracy: 0.7403 - top-5-accuracy: 0.9510 - val_loss: 1.0659 - val_accuracy: 0.7040 - val_top-5-accuracy: 0.9220\n",
            "Epoch 78/100\n",
            "394/394 [==============================] - 45s 114ms/step - loss: 0.8869 - accuracy: 0.7329 - top-5-accuracy: 0.9493 - val_loss: 1.0498 - val_accuracy: 0.6960 - val_top-5-accuracy: 0.9220\n",
            "Epoch 79/100\n",
            "394/394 [==============================] - 46s 116ms/step - loss: 0.8625 - accuracy: 0.7442 - top-5-accuracy: 0.9514 - val_loss: 0.9641 - val_accuracy: 0.7160 - val_top-5-accuracy: 0.9280\n",
            "Epoch 80/100\n",
            "394/394 [==============================] - 45s 115ms/step - loss: 0.8621 - accuracy: 0.7397 - top-5-accuracy: 0.9529 - val_loss: 0.9911 - val_accuracy: 0.7260 - val_top-5-accuracy: 0.9360\n",
            "Epoch 81/100\n",
            "394/394 [==============================] - 45s 114ms/step - loss: 0.8511 - accuracy: 0.7445 - top-5-accuracy: 0.9518 - val_loss: 0.9931 - val_accuracy: 0.7320 - val_top-5-accuracy: 0.9240\n",
            "Epoch 82/100\n",
            "394/394 [==============================] - 45s 114ms/step - loss: 0.8556 - accuracy: 0.7427 - top-5-accuracy: 0.9546 - val_loss: 0.9883 - val_accuracy: 0.7100 - val_top-5-accuracy: 0.9280\n",
            "Epoch 83/100\n",
            "394/394 [==============================] - 45s 113ms/step - loss: 0.8463 - accuracy: 0.7469 - top-5-accuracy: 0.9516 - val_loss: 1.0232 - val_accuracy: 0.7080 - val_top-5-accuracy: 0.9280\n",
            "Epoch 84/100\n",
            "394/394 [==============================] - 46s 116ms/step - loss: 0.8129 - accuracy: 0.7635 - top-5-accuracy: 0.9562 - val_loss: 0.9572 - val_accuracy: 0.7180 - val_top-5-accuracy: 0.9360\n",
            "Epoch 85/100\n",
            "394/394 [==============================] - 45s 115ms/step - loss: 0.8364 - accuracy: 0.7546 - top-5-accuracy: 0.9561 - val_loss: 0.9951 - val_accuracy: 0.7240 - val_top-5-accuracy: 0.9320\n",
            "Epoch 86/100\n",
            "394/394 [==============================] - 45s 113ms/step - loss: 0.8387 - accuracy: 0.7494 - top-5-accuracy: 0.9559 - val_loss: 1.0034 - val_accuracy: 0.7060 - val_top-5-accuracy: 0.9400\n",
            "Epoch 87/100\n",
            "394/394 [==============================] - 45s 113ms/step - loss: 0.8412 - accuracy: 0.7509 - top-5-accuracy: 0.9524 - val_loss: 1.0830 - val_accuracy: 0.6900 - val_top-5-accuracy: 0.9140\n",
            "Epoch 88/100\n",
            "394/394 [==============================] - 45s 113ms/step - loss: 0.8202 - accuracy: 0.7570 - top-5-accuracy: 0.9566 - val_loss: 0.9945 - val_accuracy: 0.7280 - val_top-5-accuracy: 0.9200\n",
            "Epoch 89/100\n",
            "394/394 [==============================] - 45s 114ms/step - loss: 0.8197 - accuracy: 0.7573 - top-5-accuracy: 0.9569 - val_loss: 1.0531 - val_accuracy: 0.7000 - val_top-5-accuracy: 0.9140\n",
            "Epoch 90/100\n",
            "394/394 [==============================] - 45s 113ms/step - loss: 0.8158 - accuracy: 0.7562 - top-5-accuracy: 0.9552 - val_loss: 1.0494 - val_accuracy: 0.7040 - val_top-5-accuracy: 0.9300\n",
            "Epoch 91/100\n",
            "394/394 [==============================] - 45s 114ms/step - loss: 0.8010 - accuracy: 0.7581 - top-5-accuracy: 0.9574 - val_loss: 0.9958 - val_accuracy: 0.7300 - val_top-5-accuracy: 0.9220\n",
            "Epoch 92/100\n",
            "394/394 [==============================] - 44s 113ms/step - loss: 0.8051 - accuracy: 0.7597 - top-5-accuracy: 0.9587 - val_loss: 1.0794 - val_accuracy: 0.7120 - val_top-5-accuracy: 0.9160\n",
            "Epoch 93/100\n",
            "394/394 [==============================] - 46s 117ms/step - loss: 0.8052 - accuracy: 0.7612 - top-5-accuracy: 0.9605 - val_loss: 1.0188 - val_accuracy: 0.7280 - val_top-5-accuracy: 0.9240\n",
            "Epoch 94/100\n",
            "394/394 [==============================] - 44s 113ms/step - loss: 0.8039 - accuracy: 0.7549 - top-5-accuracy: 0.9574 - val_loss: 0.9656 - val_accuracy: 0.7340 - val_top-5-accuracy: 0.9380\n",
            "Epoch 95/100\n",
            "394/394 [==============================] - 45s 113ms/step - loss: 0.7866 - accuracy: 0.7628 - top-5-accuracy: 0.9591 - val_loss: 1.0938 - val_accuracy: 0.7040 - val_top-5-accuracy: 0.9360\n",
            "Epoch 96/100\n",
            "394/394 [==============================] - 45s 113ms/step - loss: 0.7778 - accuracy: 0.7699 - top-5-accuracy: 0.9605 - val_loss: 0.9937 - val_accuracy: 0.7340 - val_top-5-accuracy: 0.9260\n",
            "Epoch 97/100\n",
            "394/394 [==============================] - 46s 118ms/step - loss: 0.7971 - accuracy: 0.7567 - top-5-accuracy: 0.9592 - val_loss: 0.9985 - val_accuracy: 0.7240 - val_top-5-accuracy: 0.9240\n",
            "Epoch 98/100\n",
            "394/394 [==============================] - 46s 116ms/step - loss: 0.8024 - accuracy: 0.7559 - top-5-accuracy: 0.9600 - val_loss: 1.0342 - val_accuracy: 0.7020 - val_top-5-accuracy: 0.9200\n",
            "Epoch 99/100\n",
            "394/394 [==============================] - 44s 112ms/step - loss: 0.7678 - accuracy: 0.7698 - top-5-accuracy: 0.9587 - val_loss: 1.0943 - val_accuracy: 0.7020 - val_top-5-accuracy: 0.9080\n",
            "Epoch 100/100\n",
            "394/394 [==============================] - 45s 114ms/step - loss: 0.7703 - accuracy: 0.7704 - top-5-accuracy: 0.9607 - val_loss: 1.1582 - val_accuracy: 0.7040 - val_top-5-accuracy: 0.9100\n",
            "16/16 [==============================] - 168s 11s/step - loss: 0.8548 - accuracy: 0.7480 - top-5-accuracy: 0.9400\n",
            "Test accuracy: 74.8%\n"
          ]
        }
      ]
    },
    {
      "cell_type": "code",
      "source": [
        " # Plotting code\n",
        "if history is not None:  # Ensure history is not None before accessing it\n",
        "        plt.figure(figsize=(10,6))  # specify figure size for better visibility\n",
        "        plt.plot(history.history[\"loss\"], label=\"train_loss\")\n",
        "        plt.plot(history.history[\"val_loss\"], label=\"val_loss\")\n",
        "        plt.xlabel(\"Epochs\")\n",
        "        plt.ylabel(\"Loss\")\n",
        "        plt.title(\"Train and Validation Losses Over Epochs\", fontsize=14)\n",
        "        plt.legend()\n",
        "        plt.grid(True)  # to ensure the grid is displayed\n",
        "        plt.show()\n",
        "else:\n",
        "        print(\"No training history to plot.\")"
      ],
      "metadata": {
        "colab": {
          "base_uri": "https://localhost:8080/",
          "height": 565
        },
        "id": "rt_7GqbR0QP1",
        "outputId": "94f8eae2-c776-4231-f83e-3a613aad941c"
      },
      "execution_count": null,
      "outputs": [
        {
          "output_type": "display_data",
          "data": {
            "text/plain": [
              "<Figure size 1000x600 with 1 Axes>"
            ],
            "image/png": "[encoded data removed]"
          },
          "metadata": {}
        }
      ]
    }
  ]
}